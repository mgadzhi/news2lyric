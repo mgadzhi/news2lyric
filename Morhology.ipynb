{
 "cells": [
  {
   "cell_type": "code",
   "execution_count": 8,
   "metadata": {
    "collapsed": true
   },
   "outputs": [],
   "source": [
    "from nltk.corpus import cmudict\n",
    "\n",
    "sent = \"Once upon a midnight dreary\""
   ]
  },
  {
   "cell_type": "code",
   "execution_count": 10,
   "metadata": {
    "collapsed": false
   },
   "outputs": [
    {
     "name": "stdout",
     "output_type": "stream",
     "text": [
      "[[u'AH0', u'S', u'EH1', u'T', u'IH0', u'K'], [u'AH0', u'S', u'IY1', u'T', u'IH0', u'K']]\n"
     ]
    }
   ],
   "source": [
    "d = cmudict.dict()\n",
    "\n",
    "print d['acetic']\n"
   ]
  },
  {
   "cell_type": "code",
   "execution_count": 14,
   "metadata": {
    "collapsed": false
   },
   "outputs": [
    {
     "name": "stdout",
     "output_type": "stream",
     "text": [
      "[[u'W', u'AH1', u'N', u'S']]\n",
      "[[u'AH0', u'P', u'AA1', u'N']]\n",
      "[[u'AH0'], [u'EY1']]\n",
      "[[u'M', u'IH1', u'D', u'N', u'AY2', u'T']]\n",
      "[[u'D', u'R', u'IH1', u'R', u'IY0']]\n",
      "[[u'K', u'AE1', u'T']]\n"
     ]
    }
   ],
   "source": [
    "for word in sent.split(' '):\n",
    "    print d.get(word.lower())\n",
    "print d.get('cat')"
   ]
  },
  {
   "cell_type": "markdown",
   "metadata": {},
   "source": [
    "Once upon a midnight dreary, while I pondered, weak and weary,\n",
    "\n",
    "Over many a quaint and curious volume of forgotten lore—\n",
    "\n",
    "    While I nodded, nearly napping, suddenly there came a tapping,\n",
    "    \n",
    "As of some one gently rapping, rapping at my chamber door.\n",
    "\n",
    "“’Tis some visitor,” I muttered, “tapping at my chamber door—\n",
    "\n",
    "            Only this and nothing more.”\n",
    "            \n",
    "            \n",
    "Once upon a midnight dreary,\n",
    "while I pondered, weak and weary,\n",
    "Over many a quaint and curiousvolume of forgotten lore—\n",
    "    While I nodded, nearly napping,\n",
    "    suddenly there came a tapping,\n",
    "As of some one gently rapping,\n",
    "rapping at my chamber door.\n",
    "“’Tis some visitor,” I muttered, “tapping at my chamber door—\n",
    "Only this and nothing more.”\n",
    "\n"
   ]
  },
  {
   "cell_type": "code",
   "execution_count": null,
   "metadata": {
    "collapsed": true
   },
   "outputs": [],
   "source": [
    "poem_structure = [\n",
    "    (8, [1,3,5,7],),\n",
    "    (8, [1,3,5,7],),\n",
    "    (8, [1,3,5,7],),\n",
    "    (8, [1,3,5,7],),\n",
    "]"
   ]
  }
 ],
 "metadata": {
  "kernelspec": {
   "display_name": "Python 2",
   "language": "python",
   "name": "python2"
  },
  "language_info": {
   "codemirror_mode": {
    "name": "ipython",
    "version": 2
   },
   "file_extension": ".py",
   "mimetype": "text/x-python",
   "name": "python",
   "nbconvert_exporter": "python",
   "pygments_lexer": "ipython2",
   "version": "2.7.11"
  }
 },
 "nbformat": 4,
 "nbformat_minor": 0
}
