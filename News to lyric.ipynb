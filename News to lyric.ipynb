{
 "cells": [
  {
   "cell_type": "markdown",
   "metadata": {},
   "source": [
    "# News to poems"
   ]
  },
  {
   "cell_type": "code",
   "execution_count": 20,
   "metadata": {
    "collapsed": true
   },
   "outputs": [],
   "source": [
    "import nltk\n",
    "from pprint import pprint\n",
    "from nltk.parse.stanford import StanfordDependencyParser"
   ]
  },
  {
   "cell_type": "code",
   "execution_count": 2,
   "metadata": {
    "collapsed": false
   },
   "outputs": [
    {
     "name": "stdout",
     "output_type": "stream",
     "text": [
      "[('British', 'JJ'), ('scientist', 'NN'), ('says', 'VBZ'), ('memories', 'NNS'), ('of', 'IN'), ('spending', 'VBG'), ('the', 'DT'), ('night', 'NN'), ('with', 'IN'), ('Marilyn', 'NNP'), ('Monroe', 'NNP'), ('could', 'MD'), ('be', 'VB'), ('implanted', 'VBN'), ('into', 'IN'), ('the', 'DT'), ('brain', 'NN')]\n"
     ]
    }
   ],
   "source": [
    "partial_grammar = \"\"\"\n",
    "S -> NP VP\n",
    "PP -> P NP\n",
    "NP -> Det N | Det N PP | 'I'\n",
    "VP -> V NP | VP PP\n",
    "\"\"\"\n",
    "title = \"British scientist says memories of spending the night with Marilyn Monroe could be implanted into the brain\"\n",
    "title_words = nltk.word_tokenize(title)\n",
    "title_pos = nltk.pos_tag(title_words)\n",
    "print title_pos"
   ]
  },
  {
   "cell_type": "code",
   "execution_count": 3,
   "metadata": {
    "collapsed": true
   },
   "outputs": [],
   "source": [
    "def lex_grammar(words_pos):\n",
    "    lexicon = {}\n",
    "    for word, pos in sorted(words_pos, key=lambda (a, b): b):\n",
    "        if pos not in lexicon:\n",
    "            lexicon[pos] = []\n",
    "        lexicon[pos].append(word)\n",
    "    return \"\\n\".join(\"{pos} -> {words}\".format(pos=pos, words=\"|\".join(ws)) for pos, ws in lexicon.iteritems())"
   ]
  },
  {
   "cell_type": "code",
   "execution_count": 5,
   "metadata": {
    "collapsed": false
   },
   "outputs": [],
   "source": [
    "second_part_of_grammar = lex_grammar(title_pos)\n",
    "grammar = partial_grammar + second_part_of_grammar"
   ]
  },
  {
   "cell_type": "code",
   "execution_count": 6,
   "metadata": {
    "collapsed": false
   },
   "outputs": [
    {
     "name": "stdout",
     "output_type": "stream",
     "text": [
      "\n",
      "S -> NP VP\n",
      "PP -> P NP\n",
      "NP -> Det N | Det N PP | 'I'\n",
      "VP -> V NP | VP PP\n",
      "MD -> could\n",
      "VB -> be\n",
      "VBG -> spending\n",
      "NN -> scientist|night|brain\n",
      "VBN -> implanted\n",
      "JJ -> British\n",
      "IN -> of|with|into\n",
      "VBZ -> says\n",
      "DT -> the|the\n",
      "NNS -> memories\n",
      "NNP -> Marilyn|Monroe\n"
     ]
    }
   ],
   "source": [
    "print grammar"
   ]
  },
  {
   "cell_type": "markdown",
   "metadata": {},
   "source": [
    "Before proceeding you should download zip-archive with stanford parser:\n",
    "\n",
    "http://nlp.stanford.edu/software/stanford-parser-full-2015-04-20.zip\n",
    "\n",
    "We need two files from there:\n",
    "- stanford/stanford-parser.jar\n",
    "- stanford/stanford-parser-3.5.2-models.jar\n",
    "\n",
    "Create a directory 'stanford' and put them there."
   ]
  },
  {
   "cell_type": "code",
   "execution_count": 24,
   "metadata": {
    "collapsed": false
   },
   "outputs": [
    {
     "name": "stdout",
     "output_type": "stream",
     "text": [
      "British scientist says memories of spending the night with Marilyn Monroe could be implanted into the brain\n",
      "[((u'says', u'VBZ'), u'nsubj', (u'scientist', u'NN')),\n",
      " ((u'scientist', u'NN'), u'amod', (u'British', u'JJ')),\n",
      " ((u'says', u'VBZ'), u'dobj', (u'memories', u'NNS')),\n",
      " ((u'memories', u'NNS'), u'nmod', (u'spending', u'NN')),\n",
      " ((u'spending', u'NN'), u'case', (u'of', u'IN')),\n",
      " ((u'says', u'VBZ'), u'nmod:tmod', (u'night', u'NN')),\n",
      " ((u'night', u'NN'), u'det', (u'the', u'DT')),\n",
      " ((u'says', u'VBZ'), u'advcl', (u'implanted', u'VBN')),\n",
      " ((u'implanted', u'VBN'), u'mark', (u'with', u'IN')),\n",
      " ((u'implanted', u'VBN'), u'nsubjpass', (u'Monroe', u'NNP')),\n",
      " ((u'Monroe', u'NNP'), u'compound', (u'Marilyn', u'NNP')),\n",
      " ((u'implanted', u'VBN'), u'aux', (u'could', u'MD')),\n",
      " ((u'implanted', u'VBN'), u'auxpass', (u'be', u'VB')),\n",
      " ((u'implanted', u'VBN'), u'nmod', (u'brain', u'NN')),\n",
      " ((u'brain', u'NN'), u'case', (u'into', u'IN')),\n",
      " ((u'brain', u'NN'), u'det', (u'the', u'DT'))]\n"
     ]
    }
   ],
   "source": [
    "parser = StanfordDependencyParser(path_to_jar='stanford/stanford-parser.jar',\\\n",
    "                                  path_to_models_jar='stanford/stanford-parser-3.5.2-models.jar')\n",
    "parsed_tree = list(parser.parse(title_words))\n",
    "\n",
    "print title\n",
    "pprint(list(parsed_tree[0].triples()))\n",
    "    "
   ]
  },
  {
   "cell_type": "code",
   "execution_count": 26,
   "metadata": {
    "collapsed": false
   },
   "outputs": [
    {
     "name": "stdout",
     "output_type": "stream",
     "text": [
      "[((u'put', u'VBN'), u'nsubjpass', (u'ball', u'NN')),\n",
      " ((u'ball', u'NN'), u'det', (u'A', u'DT')),\n",
      " ((u'put', u'VBN'), u'auxpass', (u'is', u'VBZ')),\n",
      " ((u'put', u'VBN'), u'nmod', (u'box', u'NN')),\n",
      " ((u'box', u'NN'), u'case', (u'into', u'IN')),\n",
      " ((u'box', u'NN'), u'det', (u'the', u'DT'))]\n"
     ]
    }
   ],
   "source": [
    "test_sent = \"A ball is put into the box\"\n",
    "pprint(list(list(parser.parse(test_sent.split(' ')))[0].triples()))"
   ]
  },
  {
   "cell_type": "code",
   "execution_count": null,
   "metadata": {
    "collapsed": true
   },
   "outputs": [],
   "source": []
  }
 ],
 "metadata": {
  "kernelspec": {
   "display_name": "Python 2",
   "language": "python",
   "name": "python2"
  },
  "language_info": {
   "codemirror_mode": {
    "name": "ipython",
    "version": 2
   },
   "file_extension": ".py",
   "mimetype": "text/x-python",
   "name": "python",
   "nbconvert_exporter": "python",
   "pygments_lexer": "ipython2",
   "version": "2.7.11"
  }
 },
 "nbformat": 4,
 "nbformat_minor": 0
}
