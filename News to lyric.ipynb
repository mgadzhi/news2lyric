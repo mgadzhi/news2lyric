{
 "cells": [
  {
   "cell_type": "markdown",
   "metadata": {},
   "source": [
    "# Our project"
   ]
  },
  {
   "cell_type": "code",
   "execution_count": 3,
   "metadata": {
    "collapsed": true
   },
   "outputs": [],
   "source": [
    "import nltk"
   ]
  },
  {
   "cell_type": "code",
   "execution_count": 5,
   "metadata": {
    "collapsed": false
   },
   "outputs": [
    {
     "name": "stdout",
     "output_type": "stream",
     "text": [
      "[('British', 'JJ'), ('scientist', 'NN'), ('says', 'VBZ'), ('memories', 'NNS'), ('of', 'IN'), ('spending', 'VBG'), ('the', 'DT'), ('night', 'NN'), ('with', 'IN'), ('Marilyn', 'NNP'), ('Monroe', 'NNP'), ('could', 'MD'), ('be', 'VB'), ('implanted', 'VBN'), ('into', 'IN'), ('the', 'DT'), ('brain', 'NN')]\n"
     ]
    }
   ],
   "source": [
    "partial_grammar = \"\"\"\n",
    "S -> NP VP\n",
    "PP -> P NP\n",
    "NP -> Det N | Det N PP | 'I'\n",
    "VP -> V NP | VP PP\n",
    "\"\"\"\n",
    "title = \"British scientist says memories of spending the night with Marilyn Monroe could be implanted into the brain\"\n",
    "title_words = nltk.word_tokenize(title)\n",
    "title_pos = nltk.pos_tag(title_words)\n",
    "print title_pos"
   ]
  },
  {
   "cell_type": "code",
   "execution_count": 18,
   "metadata": {
    "collapsed": true
   },
   "outputs": [],
   "source": [
    "def lex_grammar(words_pos):\n",
    "    lexicon = {}\n",
    "    for word, pos in sorted(words_pos, key=lambda (a, b): b):\n",
    "        if pos not in lexicon:\n",
    "            lexicon[pos] = []\n",
    "        lexicon[pos].append(word)\n",
    "    return \"\\n\".join(\"{pos} -> {words}\".format(pos=pos, words=\"|\".join(ws)) for pos, ws in lexicon.iteritems())"
   ]
  },
  {
   "cell_type": "code",
   "execution_count": 19,
   "metadata": {
    "collapsed": false
   },
   "outputs": [],
   "source": [
    "second_part_of_grammar = lex_grammar(title_pos)\n",
    "grammar = partial_grammar + second_part_of_grammar"
   ]
  },
  {
   "cell_type": "code",
   "execution_count": 20,
   "metadata": {
    "collapsed": false
   },
   "outputs": [
    {
     "name": "stdout",
     "output_type": "stream",
     "text": [
      "\n",
      "S -> NP VP\n",
      "PP -> P NP\n",
      "NP -> Det N | Det N PP | 'I'\n",
      "VP -> V NP | VP PP\n",
      "MD -> could\n",
      "VB -> be\n",
      "VBG -> spending\n",
      "NN -> scientist|night|brain\n",
      "VBN -> implanted\n",
      "JJ -> British\n",
      "IN -> of|with|into\n",
      "VBZ -> says\n",
      "DT -> the|the\n",
      "NNS -> memories\n",
      "NNP -> Marilyn|Monroe\n"
     ]
    }
   ],
   "source": [
    "print grammar"
   ]
  },
  {
   "cell_type": "code",
   "execution_count": null,
   "metadata": {
    "collapsed": true
   },
   "outputs": [],
   "source": []
  }
 ],
 "metadata": {
  "kernelspec": {
   "display_name": "Python 2",
   "language": "python",
   "name": "python2"
  },
  "language_info": {
   "codemirror_mode": {
    "name": "ipython",
    "version": 2
   },
   "file_extension": ".py",
   "mimetype": "text/x-python",
   "name": "python",
   "nbconvert_exporter": "python",
   "pygments_lexer": "ipython2",
   "version": "2.7.11"
  }
 },
 "nbformat": 4,
 "nbformat_minor": 0
}
